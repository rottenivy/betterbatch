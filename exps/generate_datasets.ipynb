{
 "cells": [
  {
   "cell_type": "code",
   "execution_count": null,
   "id": "c6376973-2e4d-4190-8316-9cf7c80a1240",
   "metadata": {},
   "outputs": [],
   "source": [
    "import numpy as np\n",
    "import pandas as pd\n",
    "\n",
    "import matplotlib.pyplot as plt\n",
    "\n",
    "from gluonts.dataset.repository.datasets import get_dataset, dataset_recipes\n",
    "from gluonts.dataset.util import to_pandas\n",
    "\n",
    "import torch\n",
    "print(torch.__version__)"
   ]
  },
  {
   "cell_type": "markdown",
   "id": "0263da9f-b912-4c07-bee7-406d3cfdb9c0",
   "metadata": {},
   "source": [
    "# Load Datasets from Gluonts"
   ]
  },
  {
   "cell_type": "code",
   "execution_count": null,
   "id": "0e3fb787-69cf-44f7-93a2-ba73947ac856",
   "metadata": {},
   "outputs": [],
   "source": [
    "print(f\"Available datasets: {list(dataset_recipes.keys())}\")"
   ]
  },
  {
   "cell_type": "code",
   "execution_count": null,
   "id": "df6d8b76-27e0-4002-85e0-9e9009f50348",
   "metadata": {
    "tags": []
   },
   "outputs": [],
   "source": [
    "d_name = \"exchange_rate\"\n",
    "dataset = get_dataset(d_name, regenerate=False)\n",
    "dataset.metadata"
   ]
  },
  {
   "cell_type": "code",
   "execution_count": null,
   "id": "23fb0ea8-f663-46e4-bd24-754950f3c124",
   "metadata": {},
   "outputs": [],
   "source": [
    "# to TimeSeriesDataSet\n",
    "train_iter = iter(dataset.train)\n",
    "test_iter = iter(dataset.test)\n",
    "\n",
    "data_df = pd.DataFrame(columns=['datetime', 'sensor', 'value'])\n",
    "for i in range(int(dataset.metadata.feat_static_cat[0].cardinality)):\n",
    "    train_entry = next(train_iter)\n",
    "    test_entry = next(test_iter)\n",
    "\n",
    "    train_series = to_pandas(train_entry)\n",
    "    test_series = to_pandas(test_entry)\n",
    "\n",
    "    sensor_readings = pd.concat([train_series, test_series[train_series.index[-1]+1:]]).to_frame(name='value')\n",
    "    sensor_readings.reset_index(inplace=True, names=['datetime'])\n",
    "    sensor_readings['sensor'] = i\n",
    "\n",
    "    data_df = pd.concat([data_df, sensor_readings])\n",
    "\n",
    "data_df = data_df.astype(dict(datetime='datetime64[ns]', sensor=str))\n",
    "\n",
    "time_idx_df = pd.DataFrame(data_df['datetime'].unique(), columns=[\"datetime\"]).sort_values(by=\"datetime\").reset_index(drop=True).reset_index(names=\"time_idx\")\n",
    "data_df = pd.merge(data_df, time_idx_df, left_on=\"datetime\", right_on=\"datetime\", how=\"left\")\n",
    "\n",
    "data_df.to_csv(\"../datasets/%s.csv\"%(d_name), index=False)\n",
    "print(data_df.shape[0])\n",
    "print(data_df.head())"
   ]
  },
  {
   "cell_type": "markdown",
   "id": "79a29cb3-b667-404b-a548-2ebded15f0b9",
   "metadata": {},
   "source": [
    "# Load Datasets from H5"
   ]
  },
  {
   "cell_type": "code",
   "execution_count": null,
   "id": "cdf474b2-7f5e-449f-96ec-24ca6651c16c",
   "metadata": {
    "tags": []
   },
   "outputs": [],
   "source": [
    "d_name = \"pems04_flow\"  # pems-bay, metr-la, pemsd7m, gz-metro, hz-metro, pems03_flow, pems04_flow, pems07_flow, pems08_flow, seattle\n",
    "data_df = pd.read_hdf(\"../datasets/%s/%s.h5\"%(d_name, d_name))\n",
    "print(data_df.shape)"
   ]
  },
  {
   "cell_type": "code",
   "execution_count": null,
   "id": "156b073e-aca4-42f2-85ee-689478b4a223",
   "metadata": {},
   "outputs": [],
   "source": [
    "data_df.reset_index(inplace=True)\n",
    "data_df['time_idx'] = np.arange(data_df.shape[0])\n",
    "data_df.rename(columns={'index':'datetime'}, inplace=True)\n",
    "\n",
    "data_df = pd.melt(data_df, id_vars=[data_df.columns[0], data_df.columns[-1]], var_name='sensor', value_vars=data_df.columns[1:-1])\n",
    "data_df = data_df.astype(dict(sensor=int, time_idx=int))\n",
    "data_df = data_df.astype(dict(sensor=str))\n",
    "print(data_df.shape)\n",
    "print(data_df.head())\n",
    "\n",
    "data_df.to_csv(\"../datasets/%s.csv\"%(d_name), index=False)"
   ]
  }
 ],
 "metadata": {
  "kernelspec": {
   "display_name": "pytorch_forecasting",
   "language": "python",
   "name": "python3"
  },
  "language_info": {
   "codemirror_mode": {
    "name": "ipython",
    "version": 3
   },
   "file_extension": ".py",
   "mimetype": "text/x-python",
   "name": "python",
   "nbconvert_exporter": "python",
   "pygments_lexer": "ipython3",
   "version": "3.10.13"
  }
 },
 "nbformat": 4,
 "nbformat_minor": 5
}
